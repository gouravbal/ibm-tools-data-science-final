{
  "nbformat": 4,
  "nbformat_minor": 0,
  "metadata": {
    "colab": {
      "provenance": []
    },
    "kernelspec": {
      "name": "python3",
      "display_name": "Python 3"
    },
    "language_info": {
      "name": "python"
    }
  },
  "cells": [
    {
      "cell_type": "code",
      "execution_count": null,
      "metadata": {
        "id": "wg_hpd3GWuT1"
      },
      "outputs": [],
      "source": []
    },
    {
      "cell_type": "markdown",
      "source": [
        "### Final Assignment: Tools for Data Science"
      ],
      "metadata": {
        "id": "P11SYoXHWwBH"
      }
    },
    {
      "cell_type": "code",
      "source": [
        "# Introduction: In this notebook, we will explore various tools, languages,\n",
        "# and libraries used in the field of data science.\n",
        "#It also includes examples of basic arithmetic operations and data conversions.\n"
      ],
      "metadata": {
        "id": "5OdBD_lGW0_T"
      },
      "execution_count": 1,
      "outputs": []
    },
    {
      "cell_type": "code",
      "source": [
        "## Data Science Languages:\n",
        "#Python\n",
        "#R\n",
        "#SQL\n",
        "#Julia\n",
        "#Scala\n",
        "#Java\n"
      ],
      "metadata": {
        "id": "GFbWGws5XEg9"
      },
      "execution_count": 2,
      "outputs": []
    },
    {
      "cell_type": "code",
      "source": [
        "## Data Science Libraries\n",
        "#Pandas\n",
        "#NumPy\n",
        "#Matplotlib\n",
        "#Scikit-learn\n",
        "#TensorFlow\n",
        "#ggplot2 (R)\n"
      ],
      "metadata": {
        "id": "bLTDKl_UXTsW"
      },
      "execution_count": 3,
      "outputs": []
    },
    {
      "cell_type": "code",
      "source": [
        "## Table of Data Science Tools\n",
        "\n",
        "#| Category          | Tool              |\n",
        "#|-------------------|-------------------|\n",
        "#| IDE               | Jupyter Notebook  |\n",
        "#| IDE               | RStudio           |\n",
        "#| Visualization     | Tableau           |\n",
        "#| Big Data Tools    | Apache Spark      |\n",
        "#| Machine Learning  | TensorFlow        |\n"
      ],
      "metadata": {
        "id": "H14cn4HAXaug"
      },
      "execution_count": 4,
      "outputs": []
    },
    {
      "cell_type": "code",
      "source": [
        "## Examples of Arithmetic Expressions\n",
        "#Below are some basic arithmetic operations performed using Python.\n"
      ],
      "metadata": {
        "id": "DnMXa6cqXkGW"
      },
      "execution_count": 5,
      "outputs": []
    },
    {
      "cell_type": "code",
      "source": [
        "# This expression multiplies 3 and 4, then adds 5\n",
        "(3 * 4) + 5\n"
      ],
      "metadata": {
        "colab": {
          "base_uri": "https://localhost:8080/"
        },
        "id": "PZS0CBFKX2kf",
        "outputId": "ca43bd53-6479-4b60-e8e2-f257d50c80a2"
      },
      "execution_count": 6,
      "outputs": [
        {
          "output_type": "execute_result",
          "data": {
            "text/plain": [
              "17"
            ]
          },
          "metadata": {},
          "execution_count": 6
        }
      ]
    },
    {
      "cell_type": "code",
      "source": [
        "# This will convert 200 minutes to hours\n",
        "minutes = 200\n",
        "hours = minutes / 60\n",
        "hours\n"
      ],
      "metadata": {
        "colab": {
          "base_uri": "https://localhost:8080/"
        },
        "id": "GeAd19hJX4Sa",
        "outputId": "7357ec19-dd15-4063-8b36-d6f88a02db66"
      },
      "execution_count": 7,
      "outputs": [
        {
          "output_type": "execute_result",
          "data": {
            "text/plain": [
              "3.3333333333333335"
            ]
          },
          "metadata": {},
          "execution_count": 7
        }
      ]
    },
    {
      "cell_type": "code",
      "source": [
        "## Objectives\n",
        "#List data science languages\n",
        "#List data science libraries\n",
        "#Demonstrate basic arithmetic in Python\n",
        "#Convert minutes to hours using code\n",
        "#Practice Markdown and Code cells in Jupyter Notebook\n"
      ],
      "metadata": {
        "id": "XWZTnJDqX6KZ"
      },
      "execution_count": 8,
      "outputs": []
    },
    {
      "cell_type": "code",
      "source": [
        "## Author\n",
        "#Gourav Bal\n"
      ],
      "metadata": {
        "id": "z3T0Evf-YJOg"
      },
      "execution_count": 9,
      "outputs": []
    },
    {
      "cell_type": "code",
      "source": [],
      "metadata": {
        "id": "Qni_pV-_YPUQ"
      },
      "execution_count": null,
      "outputs": []
    }
  ]
}